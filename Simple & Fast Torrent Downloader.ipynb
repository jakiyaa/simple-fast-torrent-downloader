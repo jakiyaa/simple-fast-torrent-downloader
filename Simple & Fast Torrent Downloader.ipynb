{
  "nbformat": 4,
  "nbformat_minor": 0,
  "metadata": {
    "colab": {
      "name": "Simple & Fast Torrent Downloader.ipynb",
      "provenance": [],
      "collapsed_sections": [
        "Gc_t8iOOsw0A"
      ],
      "mount_file_id": "1rgleNEy8c6jgL3030bVOXVJOSg3SfXSe",
      "authorship_tag": "ABX9TyOcZuB+vLXEqMTOAETiPG4A",
      "include_colab_link": true
    },
    "kernelspec": {
      "name": "python3",
      "display_name": "Python 3"
    },
    "language_info": {
      "name": "python"
    }
  },
  "cells": [
    {
      "cell_type": "markdown",
      "metadata": {
        "id": "view-in-github",
        "colab_type": "text"
      },
      "source": [
        "<a href=\"https://colab.research.google.com/github/jakiyaa/simple-fast-torrent-downloader/blob/main/Simple%20%26%20Fast%20Torrent%20Downloader.ipynb\" target=\"_parent\"><img src=\"https://colab.research.google.com/assets/colab-badge.svg\" alt=\"Open In Colab\"/></a>"
      ]
    },
    {
      "cell_type": "markdown",
      "metadata": {
        "id": "aUq5n4TUh5mr"
      },
      "source": [
        "#  <a href=\"https://webtorrent.io/\"><img src='https://webtorrent.io/img/webtorrent-small.png' height=\"40\" /></a> <font color=lightgreen> Simple & Fast </font> Torrent Downloader -<font color=red> webtorrent cli </font> <a href=\"https://github.com/jakiyaa/simple-fast-torrent-downloader\"><img src='https://upload.wikimedia.org/wikipedia/commons/thumb/e/eb/Ei-sc-github.svg/768px-Ei-sc-github.svg.png' height=\"100\" /></a>\n",
        "  \n",
        " \n",
        "\n",
        "   "
      ]
    },
    {
      "cell_type": "code",
      "metadata": {
        "cellView": "form",
        "id": "LjE3rpHR2Qnl"
      },
      "source": [
        "#@title ←Run <Center>Mount Google Drive </Center>\n",
        "#@markdown <Center> <img src=\"https://kstatic.googleusercontent.com/files/e20dbc1db7b6eab22fb2d07df8043f8a74b301dbb8c176e6a1992b2dc229c5ae94b5c260cf549c41712fa40b7e639166c6a8461303a27c2a3b9c55b8ca155ec3\" class=\"icon\" alt=\"Icon\">\n",
        "\n",
        "from google.colab import drive\n",
        "drive.mount('/content/drive')"
      ],
      "execution_count": null,
      "outputs": []
    },
    {
      "cell_type": "code",
      "metadata": {
        "id": "2aCAYrqOssRs",
        "cellView": "form"
      },
      "source": [
        "#@title ←Run <center>Mount Your drive (* *rclone supported*) <img src='https://biplobsd.github.io/RLabClone/img/title_rclonelab.svg' height=\"40\"/>\n",
        "import os\n",
        "\n",
        "!wget https://downloads.rclone.org/v1.52.1/rclone-v1.52.1-linux-amd64.deb\n",
        "!apt install ./rclone-v1.52.1-linux-amd64.deb\n",
        "!rclone config"
      ],
      "execution_count": null,
      "outputs": []
    },
    {
      "cell_type": "code",
      "metadata": {
        "id": "Ct8YwbcztSEn",
        "cellView": "form"
      },
      "source": [
        "#@title ←Run <center><a href=\"https://webtorrent.io/\"><img src='https://webtorrent.io/img/webtorrent-small.png' height=\"40\" />\n",
        "import os\n",
        "\n",
        "Torrent_link = \"\" #@param {type:\"string\"}\n",
        "Download_location = \"/content/drive/MyDrive/\" #@param {type:\"string\"}\n",
        "\n",
        "!npx -p webtorrent-cli webtorrent download --out \"$Download_location\" \"$Torrent_link\"\n",
        "\n",
        "#ex= !npx -p webtorrent-cli webtorrent download --out /content/drive/MyDrive/pamkk/ \"magnet:?xt=urn:btih:1D4BDD490EAAFACB61831B5A97895EC56E53682D&dn=Rick.and.Morty.S05E05.1080p.WEBRip.x264-CAKES&tr=http%3A%2F%2Ftracker.trackerfix.com%3A80%2Fannounce&tr=udp%3A%2F%2F9.rarbg.me%3A2820%2Fannounce&tr=udp%3A%2F%2F9.rarbg.to%3A2950%2Fannounce&tr=udp%3A%2F%2Ftracker.fatkhoala.org%3A13750%2Fannounce&tr=udp%3A%2F%2Ftracker.tallpenguin.org%3A15790%2Fannounce&tr=udp%3A%2F%2Ftracker.zer0day.to%3A1337%2Fannounce&tr=udp%3A%2F%2Ftracker.leechers-paradise.org%3A6969%2Fannounce&tr=udp%3A%2F%2Fcoppersurfer.tk%3A6969%2Fannounce\"\n"
      ],
      "execution_count": null,
      "outputs": []
    }
  ]
}